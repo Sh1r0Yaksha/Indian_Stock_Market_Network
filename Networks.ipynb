{
 "cells": [
  {
   "cell_type": "code",
   "execution_count": 26,
   "metadata": {},
   "outputs": [],
   "source": [
    "import pandas as pd\n",
    "import networkx as nx\n",
    "import matplotlib.pyplot as plt\n",
    "import numpy as np"
   ]
  },
  {
   "cell_type": "code",
   "execution_count": 27,
   "metadata": {},
   "outputs": [],
   "source": [
    "corr_closing_df = pd.read_csv('correlation_data/correlation_log_diff_CH_CLOSING_PRICE.csv')"
   ]
  },
  {
   "cell_type": "code",
   "execution_count": 28,
   "metadata": {},
   "outputs": [
    {
     "data": {
      "text/plain": [
       "Index(['FILENAME1', 'FILENAME2', 'CORRELATION'], dtype='object')"
      ]
     },
     "execution_count": 28,
     "metadata": {},
     "output_type": "execute_result"
    }
   ],
   "source": [
    "corr_closing_df.columns"
   ]
  },
  {
   "cell_type": "code",
   "execution_count": 29,
   "metadata": {},
   "outputs": [
    {
     "data": {
      "text/html": [
       "<div>\n",
       "<style scoped>\n",
       "    .dataframe tbody tr th:only-of-type {\n",
       "        vertical-align: middle;\n",
       "    }\n",
       "\n",
       "    .dataframe tbody tr th {\n",
       "        vertical-align: top;\n",
       "    }\n",
       "\n",
       "    .dataframe thead th {\n",
       "        text-align: right;\n",
       "    }\n",
       "</style>\n",
       "<table border=\"1\" class=\"dataframe\">\n",
       "  <thead>\n",
       "    <tr style=\"text-align: right;\">\n",
       "      <th></th>\n",
       "      <th>CORRELATION</th>\n",
       "    </tr>\n",
       "  </thead>\n",
       "  <tbody>\n",
       "    <tr>\n",
       "      <th>count</th>\n",
       "      <td>40000.000000</td>\n",
       "    </tr>\n",
       "    <tr>\n",
       "      <th>mean</th>\n",
       "      <td>0.197593</td>\n",
       "    </tr>\n",
       "    <tr>\n",
       "      <th>std</th>\n",
       "      <td>0.152392</td>\n",
       "    </tr>\n",
       "    <tr>\n",
       "      <th>min</th>\n",
       "      <td>-0.357092</td>\n",
       "    </tr>\n",
       "    <tr>\n",
       "      <th>25%</th>\n",
       "      <td>0.083244</td>\n",
       "    </tr>\n",
       "    <tr>\n",
       "      <th>50%</th>\n",
       "      <td>0.199887</td>\n",
       "    </tr>\n",
       "    <tr>\n",
       "      <th>75%</th>\n",
       "      <td>0.294395</td>\n",
       "    </tr>\n",
       "    <tr>\n",
       "      <th>max</th>\n",
       "      <td>1.000000</td>\n",
       "    </tr>\n",
       "  </tbody>\n",
       "</table>\n",
       "</div>"
      ],
      "text/plain": [
       "        CORRELATION\n",
       "count  40000.000000\n",
       "mean       0.197593\n",
       "std        0.152392\n",
       "min       -0.357092\n",
       "25%        0.083244\n",
       "50%        0.199887\n",
       "75%        0.294395\n",
       "max        1.000000"
      ]
     },
     "execution_count": 29,
     "metadata": {},
     "output_type": "execute_result"
    }
   ],
   "source": [
    "corr_closing_df.describe()"
   ]
  },
  {
   "cell_type": "code",
   "execution_count": 30,
   "metadata": {},
   "outputs": [],
   "source": [
    "G = nx.Graph()"
   ]
  },
  {
   "cell_type": "code",
   "execution_count": 31,
   "metadata": {},
   "outputs": [],
   "source": [
    "nodes = set(corr_closing_df['FILENAME1'].unique()) | set(corr_closing_df['FILENAME2'].unique())\n",
    "G.add_nodes_from(nodes)"
   ]
  },
  {
   "cell_type": "code",
   "execution_count": 32,
   "metadata": {},
   "outputs": [],
   "source": [
    "for _, row in corr_closing_df.iterrows():\n",
    "    weight=row['CORRELATION']\n",
    "    if row['FILENAME1'] != row['FILENAME2']:\n",
    "        G.add_edge(row['FILENAME1'], row['FILENAME2'], weight=weight)\n"
   ]
  },
  {
   "cell_type": "code",
   "execution_count": 33,
   "metadata": {},
   "outputs": [
    {
     "data": {
      "image/png": "[encoded data removed]",
      "text/plain": [
       "<Figure size 640x480 with 1 Axes>"
      ]
     },
     "metadata": {},
     "output_type": "display_data"
    }
   ],
   "source": [
    "thresholds = np.arange(-1, 1, 0.05)  # Stops before 0.95 to avoid exceeding 0.9\n",
    "edge_densities = []\n",
    "\n",
    "for thresh in thresholds:\n",
    "    filtered_edges = [(u, v) for u, v, d in G.edges(data=True) if d['weight'] > thresh]\n",
    "    edge_density = len(filtered_edges) / (len(nodes) * (len(nodes) - 1) / 2)  # Formula for edge density\n",
    "    edge_densities.append(edge_density)\n",
    "\n",
    "plt.plot(thresholds, edge_densities, marker='o')\n",
    "plt.xlabel('Threshold')\n",
    "plt.ylabel('Edge Density')\n",
    "plt.title('Edge Density vs. Threshold')\n",
    "plt.grid(True)\n",
    "plt.show()"
   ]
  },
  {
   "cell_type": "code",
   "execution_count": 42,
   "metadata": {},
   "outputs": [
    {
     "name": "stdout",
     "output_type": "stream",
     "text": [
      "0.35954773869346734\n"
     ]
    }
   ],
   "source": [
    "# Used this paper https://www.sciencedirect.com/science/article/pii/S0378437111004808#s000020\n",
    "threshold = 0.25\n",
    "filtered_edges = [(u, v) for u, v, d in G.edges(data=True) if d['weight'] > threshold]\n",
    "edge_density = len(filtered_edges) / (len(nodes) * (len(nodes) - 1) / 2)  # Formula for edge density\n",
    "print(edge_density)"
   ]
  },
  {
   "cell_type": "code",
   "execution_count": 35,
   "metadata": {},
   "outputs": [],
   "source": [
    "G = nx.Graph()\n",
    "nodes = set(corr_closing_df['FILENAME1'].unique()) | set(corr_closing_df['FILENAME2'].unique())\n",
    "G.add_nodes_from(nodes)\n",
    "for _, row in corr_closing_df.iterrows():\n",
    "    weight=row['CORRELATION']\n",
    "    if weight > threshold and row['FILENAME1'] != row['FILENAME2']:\n",
    "        G.add_edge(row['FILENAME1'], row['FILENAME2'], weight=weight)\n"
   ]
  },
  {
   "cell_type": "code",
   "execution_count": 37,
   "metadata": {},
   "outputs": [
    {
     "name": "stdout",
     "output_type": "stream",
     "text": [
      "Node DLF: Degree Centrality = 0.7387\n",
      "Node FEDERALBNK: Degree Centrality = 0.7387\n",
      "Node L%26TFH: Degree Centrality = 0.7286\n",
      "Node IDFCFIRSTB: Degree Centrality = 0.7186\n",
      "Node LT: Degree Centrality = 0.6985\n"
     ]
    }
   ],
   "source": [
    "# Calculate the degree centrality\n",
    "degree_centrality = nx.degree_centrality(G)\n",
    "sorted_degree_centrality = sorted(degree_centrality.items(), key=lambda x: x[1], reverse=True)\n",
    "\n",
    "# Print the betweenness centrality in descending order\n",
    "for node, centrality in sorted_degree_centrality[:5]:\n",
    "    print(f\"Node {node}: Degree Centrality = {centrality:.4f}\")"
   ]
  },
  {
   "cell_type": "code",
   "execution_count": 38,
   "metadata": {},
   "outputs": [
    {
     "name": "stdout",
     "output_type": "stream",
     "text": [
      "Node SAIL: Betweenness Centrality = 0.0152\n",
      "Node MARUTI: Betweenness Centrality = 0.0127\n",
      "Node FEDERALBNK: Betweenness Centrality = 0.0113\n",
      "Node TATACONSUM: Betweenness Centrality = 0.0102\n",
      "Node DLF: Betweenness Centrality = 0.0095\n"
     ]
    }
   ],
   "source": [
    "betweenness_centrality = nx.betweenness_centrality(G)\n",
    "sorted_betweenness = sorted(betweenness_centrality.items(), key=lambda x: x[1], reverse=True)\n",
    "\n",
    "# Print the betweenness centrality in descending order\n",
    "for node, centrality in sorted_betweenness[:5]:\n",
    "    print(f\"Node {node}: Betweenness Centrality = {centrality:.4f}\")"
   ]
  },
  {
   "cell_type": "code",
   "execution_count": 39,
   "metadata": {},
   "outputs": [
    {
     "name": "stdout",
     "output_type": "stream",
     "text": [
      "Node FEDERALBNK: Pagerank = 0.0111\n",
      "Node L%26TFH: Pagerank = 0.0109\n",
      "Node DLF: Pagerank = 0.0109\n",
      "Node IDFCFIRSTB: Pagerank = 0.0105\n",
      "Node SBIN: Pagerank = 0.0102\n"
     ]
    }
   ],
   "source": [
    "# Calculate the Page Rank\n",
    "pagerank = nx.pagerank(G, max_iter=2000)\n",
    "\n",
    "# Sort the Page Rank values in descending order\n",
    "sorted_pagerank = sorted(pagerank.items(), key=lambda x: x[1], reverse=True)\n",
    "\n",
    "# Print the Page Rank in descending order\n",
    "for node, centrality in sorted_pagerank[:5]:\n",
    "    print(f\"Node {node}: Pagerank = {centrality:.4f}\")"
   ]
  },
  {
   "cell_type": "code",
   "execution_count": 40,
   "metadata": {},
   "outputs": [
    {
     "name": "stdout",
     "output_type": "stream",
     "text": [
      "Node DLF: Eigenvector Centrality = 0.1079\n",
      "Node L%26TFH: Eigenvector Centrality = 0.1075\n",
      "Node FEDERALBNK: Eigenvector Centrality = 0.1068\n",
      "Node LT: Eigenvector Centrality = 0.1056\n",
      "Node IDFCFIRSTB: Eigenvector Centrality = 0.1054\n"
     ]
    }
   ],
   "source": [
    "# Calculate the eigenvector centrality\n",
    "eigenvector_centrality = nx.eigenvector_centrality(G)\n",
    "\n",
    "# Sort the eigenvector centrality values in descending order\n",
    "sorted_eigenvector = sorted(eigenvector_centrality.items(), key=lambda x: x[1], reverse=True)\n",
    "\n",
    "# Print the eigenvector centrality in descending order\n",
    "for node, centrality in sorted_eigenvector[:5]:\n",
    "    print(f\"Node {node}: Eigenvector Centrality = {centrality:.4f}\")"
   ]
  },
  {
   "cell_type": "code",
   "execution_count": 41,
   "metadata": {},
   "outputs": [],
   "source": [
    "# # Extract a subgraph with only 10 nodes\n",
    "# nodes_to_visualize = list(nodes)[:20]\n",
    "# subgraph = G.subgraph(nodes_to_visualize)\n",
    "\n",
    "# # Draw the subgraph\n",
    "# pos = nx.spring_layout(subgraph)  # Positioning the nodes using a spring layout\n",
    "# nx.draw(subgraph, pos, with_labels=True, node_size = 1500)\n",
    "# edge_labels = {(u, v): f\"{w:.2f}\" for (u, v, w) in subgraph.edges(data='weight')}\n",
    "# nx.draw_networkx_edge_labels(subgraph, pos, edge_labels=edge_labels)\n",
    "\n",
    "# # Show the graph\n",
    "# plt.title('Subgraph with 10 Nodes and Correlation Weights')\n",
    "# plt.show()"
   ]
  },
  {
   "cell_type": "code",
   "execution_count": null,
   "metadata": {},
   "outputs": [],
   "source": []
  }
 ],
 "metadata": {
  "kernelspec": {
   "display_name": "system",
   "language": "python",
   "name": "python3"
  },
  "language_info": {
   "codemirror_mode": {
    "name": "ipython",
    "version": 3
   },
   "file_extension": ".py",
   "mimetype": "text/x-python",
   "name": "python",
   "nbconvert_exporter": "python",
   "pygments_lexer": "ipython3",
   "version": "3.11.6"
  }
 },
 "nbformat": 4,
 "nbformat_minor": 2
}
